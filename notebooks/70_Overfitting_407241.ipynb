{
 "cells": [
  {
   "cell_type": "markdown",
   "metadata": {},
   "source": [
    "![](CRISP_DM.png)"
   ]
  },
  {
   "cell_type": "code",
   "execution_count": null,
   "metadata": {},
   "outputs": [],
   "source": [
    "import os\n",
    "import pandas as pd\n",
    "import numpy as np\n",
    "from sklearn.preprocessing import PolynomialFeatures\n",
    "from sklearn.linear_model import LinearRegression\n",
    "from sklearn.pipeline import make_pipeline\n",
    "# for plotting\n",
    "%matplotlib inline\n",
    "import matplotlib as mpl\n",
    "import plotly.graph_objects as go\n",
    "import matplotlib.pyplot as plt\n",
    "mpl.rcParams['figure.figsize'] = (16, 10)\n",
    "# dataframe option\n",
    "pd.set_option('display.max_rows', 200)"
   ]
  },
  {
   "cell_type": "code",
   "execution_count": null,
   "metadata": {
    "code_folding": [],
    "scrolled": true
   },
   "outputs": [],
   "source": [
    "# set date from starting in ascending order and create country list\n",
    "df_analyse=pd.read_csv('../data/processed/COVID_small_sync_timeline_table.csv',sep=';')  \n",
    "country_list=df_analyse.columns[1:] # creat country list\n",
    "df_analyse.sort_values('date',ascending=True).head()"
   ]
  },
  {
   "cell_type": "markdown",
   "metadata": {},
   "source": [
    "## 70.i Functions"
   ]
  },
  {
   "cell_type": "code",
   "execution_count": null,
   "metadata": {
    "code_folding": [
     0
    ]
   },
   "outputs": [],
   "source": [
    "# same as last notebook to easen our work for plotting differnt data series dataset\n",
    "def quick_plot(x_in, df_input,y_scale='log',slider=False):\n",
    "    \"\"\" Quick basic plot for quick static evaluation of a time series\n",
    "    \n",
    "        you can push selective columns of your data frame by .iloc[:,[0,6,7,8]]\n",
    "        \n",
    "        Parameters:\n",
    "        ----------\n",
    "        x_in : array \n",
    "            array of date time object, or array of numbers\n",
    "        df_input : pandas dataframe \n",
    "            the plotting matrix where each column is plotted\n",
    "            the name of the column will be used for the legend\n",
    "        scale: str\n",
    "            y-axis scale as 'log' or 'linear'\n",
    "        slider: bool\n",
    "            True or False for x-axis slider\n",
    "    \n",
    "        \n",
    "        Returns:\n",
    "        ----------\n",
    "        \n",
    "    \"\"\"\n",
    "    fig = go.Figure()\n",
    "\n",
    "    for each in df_input.columns:\n",
    "        fig.add_trace(go.Scatter(x=x_in, y=df_input[each], name=each, opacity=1.0))\n",
    "    \n",
    "    fig.update_layout(autosize=True, width=800,height=800,xaxis_title = 'Timeline in Days',\n",
    "                      yaxis_title = 'Confirmed infected people (Source:Johns-hopkins csse)',\n",
    "                      font=dict(family=\"PT Sans, monospace\",size=14,color=\"#860303\"))\n",
    "    fig.update_yaxes(type=y_scale),\n",
    "    fig.update_xaxes(tickangle=-45,nticks=20,tickfont=dict(size=12,color=\"#860303\"))\n",
    "    if slider==True:\n",
    "        fig.update_layout(xaxis_rangeslider_visible=True)\n",
    "    fig.show()"
   ]
  },
  {
   "cell_type": "code",
   "execution_count": null,
   "metadata": {},
   "outputs": [],
   "source": [
    "# function to calculate mean_absoulute_percentage_error\n",
    "def MAPE(y_true, y_pred): \n",
    "    y_true, y_pred = np.array(y_true), np.array(y_pred)\n",
    "    return np.mean(np.abs((y_true - y_pred) / y_true)) * 100"
   ]
  },
  {
   "cell_type": "code",
   "execution_count": null,
   "metadata": {},
   "outputs": [],
   "source": [
    "quick_plot(df_analyse.date, df_analyse.iloc[:,3:-1], y_scale='log',slider=True)"
   ]
  },
  {
   "cell_type": "markdown",
   "metadata": {},
   "source": [
    "## 70.ii Fitting a polynomial curve\n",
    "*This function is from the [Python Data Science Handbook](http://shop.oreilly.com/product/0636920034919.do) by Jake VanderPlas; the content is available [on GitHub](https://github.com/jakevdp/PythonDataScienceHandbook).*\n",
    "* Polynomial interpolation is approximate a function with a polynomial of degree n_degree by using ridge regression [scikit-learn.org](https://scikit-learn.org/stable/auto_examples/linear_model/plot_polynomial_interpolation.html#sphx-glr-auto-examples-linear-model-plot-polynomial-interpolation-py)"
   ]
  },
  {
   "cell_type": "code",
   "execution_count": null,
   "metadata": {},
   "outputs": [],
   "source": [
    "# check the data of first 26 raw and skipping the doubling rate column and save in other dataframe \n",
    "df_check=df_analyse.iloc[0:27,3:-1].reset_index()\n",
    "df_check.head(20)"
   ]
  },
  {
   "cell_type": "markdown",
   "metadata": {},
   "source": [
    "### 70.ii.a. Usage of *args and *kwargs"
   ]
  },
  {
   "cell_type": "code",
   "execution_count": null,
   "metadata": {},
   "outputs": [],
   "source": [
    "# function for polynomial regression\n",
    "def Poly_Reg(degree=2, **kwargs):\n",
    "    return make_pipeline(PolynomialFeatures(degree),\n",
    "                         LinearRegression(**kwargs))"
   ]
  },
  {
   "cell_type": "code",
   "execution_count": null,
   "metadata": {},
   "outputs": [],
   "source": [
    "#Pivot a level of the (necessarily hierarchical) index labels.\n",
    "y=df_check[['Germany','Italy','US','Spain','Brazil']].unstack().sort_index(axis=0,level=1)"
   ]
  },
  {
   "cell_type": "code",
   "execution_count": null,
   "metadata": {},
   "outputs": [],
   "source": [
    "y.head()"
   ]
  },
  {
   "cell_type": "code",
   "execution_count": null,
   "metadata": {},
   "outputs": [],
   "source": [
    "# test points = 29 for overfitting\n",
    "test_points=28\n",
    "y_train=y[0:-test_points-1]\n",
    "y_test=y[-test_points:]"
   ]
  },
  {
   "cell_type": "code",
   "execution_count": null,
   "metadata": {},
   "outputs": [],
   "source": [
    "X_train=np.arange(len(y_train)).reshape(-1, 1)/4.0 \n",
    "X_test=np.arange(len(y_train),len(y_train)+test_points).reshape(-1, 1)/4.0"
   ]
  },
  {
   "cell_type": "code",
   "execution_count": null,
   "metadata": {},
   "outputs": [],
   "source": [
    "# use of subplot feature from matplotlib for plotting\n",
    "fig, ax1 = plt.subplots(1, 1)\n",
    "\n",
    "ax1.scatter(np.arange(len(y))/4,y, color='black')\n",
    "ax1.axvspan((len(y)-test_points-1)/4, len(y)/4, facecolor='y', alpha=0.5)\n",
    "\n",
    "for degree in [1,3,7,15]:\n",
    "    y_hat_insaple=Poly_Reg(degree).fit(X_train, y_train).predict(X_train)\n",
    "    y_hat_test = Poly_Reg(degree).fit(X_train, y_train).predict(X_test)\n",
    "\n",
    "    X_plot=np.concatenate((X_train, X_test), axis=None)\n",
    "    y_plot=np.concatenate((y_hat_insaple, y_hat_test), axis=None)\n",
    "\n",
    "    ax1.plot(X_plot, y_plot, label='degree={0}'.format(degree)+ \n",
    "                 '     MAPE train:  ' + str(MAPE(y_hat_insaple, y_train))[0:3]\n",
    "                 +'    MAPE test    ' +str(MAPE(y_hat_test, y_test))[0:3]) \n",
    "\n",
    "ax1.set_ylim(100, 1500000)\n",
    "ax1.set_yscale('log')\n",
    "ax1.legend(loc='best',prop={'size': 16});"
   ]
  }
 ],
 "metadata": {
  "kernelspec": {
   "display_name": "Python 3",
   "language": "python",
   "name": "python3"
  },
  "language_info": {
   "codemirror_mode": {
    "name": "ipython",
    "version": 3
   },
   "file_extension": ".py",
   "mimetype": "text/x-python",
   "name": "python",
   "nbconvert_exporter": "python",
   "pygments_lexer": "ipython3",
   "version": "3.8.3"
  }
 },
 "nbformat": 4,
 "nbformat_minor": 4
}
