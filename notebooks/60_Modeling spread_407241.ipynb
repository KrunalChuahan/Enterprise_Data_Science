{
 "cells": [
  {
   "cell_type": "markdown",
   "metadata": {},
   "source": [
    "![](CRISP_DM.png)"
   ]
  },
  {
   "cell_type": "code",
   "execution_count": null,
   "metadata": {},
   "outputs": [],
   "source": [
    "#required packages\n",
    "import matplotlib as mpl\n",
    "import matplotlib.pyplot as plt\n",
    "import os\n",
    "import pandas as pd\n",
    "import numpy as np\n",
    "from scipy import signal\n",
    "# for plotting\n",
    "%matplotlib inline\n",
    "mpl.rcParams['figure.figsize'] = (16, 10)\n",
    "pd.set_option('display.max_rows', 500)\n",
    "import plotly.graph_objects as go"
   ]
  },
  {
   "cell_type": "code",
   "execution_count": null,
   "metadata": {},
   "outputs": [],
   "source": [
    "# package for linear regression\n",
    "from sklearn import linear_model"
   ]
  },
  {
   "cell_type": "code",
   "execution_count": null,
   "metadata": {
    "code_folding": [],
    "scrolled": true
   },
   "outputs": [],
   "source": [
    "# dataframe from csv file\n",
    "df_analyse=pd.read_csv('../data/processed/COVID_small_flat_table.csv',sep=';')  \n",
    "df_analyse.sort_values('date',ascending=True).head()"
   ]
  },
  {
   "cell_type": "code",
   "execution_count": null,
   "metadata": {},
   "outputs": [],
   "source": [
    "# country_list\n",
    "country_list=df_analyse.columns[1:]"
   ]
  },
  {
   "cell_type": "markdown",
   "metadata": {},
   "source": [
    "## 60.i functions"
   ]
  },
  {
   "cell_type": "code",
   "execution_count": null,
   "metadata": {
    "code_folding": []
   },
   "outputs": [],
   "source": [
    "# quick plotting function to plot time series \n",
    "def quick_plot(x_in, df_input,y_scale='log',slider=False):\n",
    "    \"\"\" Quick basic plot for quick static evaluation of a time series\n",
    "    \n",
    "        you can push selective columns of your data frame by .iloc[:,[0,6,7,8]]\n",
    "        \n",
    "        Parameters:\n",
    "        ----------\n",
    "        x_in : array \n",
    "            array of date time object, or array of numbers\n",
    "        df_input : pandas dataframe \n",
    "            the plotting matrix where each column is plotted\n",
    "            the name of the column will be used for the legend\n",
    "        scale: str\n",
    "            y-axis scale as 'log' or 'linear'\n",
    "        slider: bool\n",
    "            True or False for x-axis slider\n",
    "    \n",
    "        \n",
    "        Returns:\n",
    "        ----------\n",
    "        \n",
    "    \"\"\"\n",
    "    fig = go.Figure()\n",
    "\n",
    "    for each in df_input.columns:\n",
    "        fig.add_trace(go.Scatter(x=x_in, y=df_input[each], name=each, opacity=1.0))\n",
    "    \n",
    "    fig.update_layout(autosize=True, width=800,height=800,xaxis_title = 'Timeline in days', \n",
    "                      yaxis_title = 'Confirmed infected people (Source:Johns-hopkins csse)', \n",
    "                      font=dict(family=\"PT Sans, monospace\",size=14,color=\"#850303\"))\n",
    "    fig.update_yaxes(type=y_scale),\n",
    "    fig.update_xaxes(tickangle=-45,nticks=20,tickfont=dict(size=12,color=\"#850303\"))\n",
    "    if slider==True:\n",
    "        fig.update_layout(xaxis_rangeslider_visible=True)\n",
    "    fig.show()"
   ]
  },
  {
   "cell_type": "code",
   "execution_count": null,
   "metadata": {
    "scrolled": false
   },
   "outputs": [],
   "source": [
    "#test function\n",
    "quick_plot(df_analyse.date,df_analyse.iloc[:,1:],y_scale='linear', slider=True)"
   ]
  },
  {
   "cell_type": "markdown",
   "metadata": {},
   "source": [
    "### 60.i.a. Modification of dataframe stucture"
   ]
  },
  {
   "cell_type": "code",
   "execution_count": null,
   "metadata": {},
   "outputs": [],
   "source": [
    "# set threshold value for number of country \n",
    "threshold=100\n",
    "# create empty list\n",
    "empty_list=[]\n",
    "# add data of more than 100 countries into empty list\n",
    "for pos,country in enumerate(df_analyse.columns[1:]):\n",
    "    empty_list.append(np.array(df_analyse[country][df_analyse[country]>threshold]))"
   ]
  },
  {
   "cell_type": "code",
   "execution_count": null,
   "metadata": {},
   "outputs": [],
   "source": [
    "#convert list into dataframe and trnaspose it to in column\n",
    "pd_sync_timeline=pd.DataFrame(empty_list,index=df_analyse.columns[1:]).T"
   ]
  },
  {
   "cell_type": "code",
   "execution_count": null,
   "metadata": {},
   "outputs": [],
   "source": [
    "# add date column starting from 0\n",
    "pd_sync_timeline['date']=np.arange(pd_sync_timeline.shape[0])\n",
    "pd_sync_timeline.head()"
   ]
  },
  {
   "cell_type": "code",
   "execution_count": null,
   "metadata": {},
   "outputs": [],
   "source": [
    "# use helper function\n",
    "quick_plot(pd_sync_timeline.date,pd_sync_timeline.iloc[:,:-1],y_scale='log',slider=True)"
   ]
  },
  {
   "cell_type": "markdown",
   "metadata": {},
   "source": [
    "## 60.ii  Doubling Rate\n",
    "*  Formula: $N(t)=N_0*2^{t/T}$"
   ]
  },
  {
   "cell_type": "code",
   "execution_count": null,
   "metadata": {},
   "outputs": [],
   "source": [
    "# define function for calculating doubling rate\n",
    "def calc_double_rate(N_0,t,T_d):\n",
    "    return N_0*np.power(2,t/T_d)"
   ]
  },
  {
   "cell_type": "code",
   "execution_count": null,
   "metadata": {},
   "outputs": [],
   "source": [
    "# set max days value\n",
    "max_days=34\n",
    "#calculate doubling rate for different amount of interval\n",
    "norm_slopes={'doubling every two days':calc_double_rate(100,np.arange(20),2),\n",
    "    'doubling every 4 days':calc_double_rate(100,np.arange(20),4), 'doubling every 10 days':calc_double_rate(100,np.arange(20),10),}"
   ]
  },
  {
   "cell_type": "code",
   "execution_count": null,
   "metadata": {},
   "outputs": [],
   "source": [
    "# list norm_slopes after converting into dataframe and pd_sync_timelines\n",
    "pd_sync_tl_with_slope=pd.concat([pd.DataFrame(norm_slopes),pd_sync_timeline], axis=1)\n",
    "pd_sync_tl_with_slope.head()"
   ]
  },
  {
   "cell_type": "code",
   "execution_count": null,
   "metadata": {},
   "outputs": [],
   "source": [
    "# plot the dataframe with doubling rate\n",
    "quick_plot(pd_sync_tl_with_slope.date,pd_sync_tl_with_slope.iloc[:,0:5],\n",
    "           y_scale='log',slider=True)"
   ]
  },
  {
   "cell_type": "code",
   "execution_count": null,
   "metadata": {},
   "outputs": [],
   "source": [
    "#save dataframe into CSV format into local drive\n",
    "pd_sync_tl_with_slope.to_csv('../data/processed/COVID_small_sync_timeline_table.csv',sep=';',index=False)"
   ]
  },
  {
   "cell_type": "markdown",
   "metadata": {},
   "source": [
    "## 60.iii Linear Regression"
   ]
  },
  {
   "cell_type": "code",
   "execution_count": null,
   "metadata": {},
   "outputs": [],
   "source": [
    "reg = linear_model.LinearRegression(fit_intercept=False)"
   ]
  },
  {
   "cell_type": "code",
   "execution_count": null,
   "metadata": {},
   "outputs": [],
   "source": [
    "# linear regression for the US \n",
    "l_vec=len(df_analyse['US'])\n",
    "X=np.arange(l_vec-5).reshape(-1, 1)\n",
    "y=np.log(np.array(df_analyse['US'][5:]))"
   ]
  },
  {
   "cell_type": "code",
   "execution_count": null,
   "metadata": {},
   "outputs": [],
   "source": [
    "#fit the model\n",
    "reg.fit(X,y)"
   ]
  },
  {
   "cell_type": "code",
   "execution_count": null,
   "metadata": {},
   "outputs": [],
   "source": [
    "# prediction calculation\n",
    "X_hat=np.arange(l_vec).reshape(-1, 1)\n",
    "Y_hat=reg.predict(X_hat)"
   ]
  },
  {
   "cell_type": "code",
   "execution_count": null,
   "metadata": {},
   "outputs": [],
   "source": [
    "#copy of old dataframe including info of date & US column info\n",
    "LR=df_analyse[['date','US']].copy()\n",
    "# predicted value in copied dataframe\n",
    "LR['prediction']=np.exp(Y_hat)"
   ]
  },
  {
   "cell_type": "code",
   "execution_count": null,
   "metadata": {},
   "outputs": [],
   "source": [
    "# plot the orginal dataset and predicted data from linear regression\n",
    "quick_plot(LR.date,LR.iloc[:,1:],y_scale='log',slider=True)"
   ]
  },
  {
   "cell_type": "code",
   "execution_count": null,
   "metadata": {},
   "outputs": [],
   "source": [
    "regression = linear_model.LinearRegression(fit_intercept=True)"
   ]
  },
  {
   "cell_type": "code",
   "execution_count": null,
   "metadata": {},
   "outputs": [],
   "source": [
    "# import CSV file for creating dataframe and make country list by excluding first column\n",
    "df_analyse=pd.read_csv('../data/processed/COVID_small_flat_table.csv',sep=';')  \n",
    "country_list=df_analyse.columns[1:]"
   ]
  },
  {
   "cell_type": "code",
   "execution_count": null,
   "metadata": {},
   "outputs": [],
   "source": [
    "# filter data using window size = 5 for filtering and order of fitted polynomial = 1\n",
    "for each in country_list:\n",
    "    df_analyse[each+'_filter']=signal.savgol_filter(df_analyse[each], 5, 1)"
   ]
  },
  {
   "cell_type": "code",
   "execution_count": null,
   "metadata": {},
   "outputs": [],
   "source": [
    "filter_cols=['Italy_filter','US_filter', 'Spain_filter', 'Germany_filter', 'Brazil_filter']"
   ]
  },
  {
   "cell_type": "code",
   "execution_count": null,
   "metadata": {},
   "outputs": [],
   "source": [
    "start_pos=5\n",
    "quick_plot(df_analyse.date[start_pos:],\n",
    "           df_analyse[filter_cols].iloc[start_pos:,:], #['US','US_filter']\n",
    "           y_scale='log',slider=True)"
   ]
  },
  {
   "cell_type": "code",
   "execution_count": null,
   "metadata": {},
   "outputs": [],
   "source": [
    "df_analyse.head()"
   ]
  },
  {
   "cell_type": "code",
   "execution_count": null,
   "metadata": {},
   "outputs": [],
   "source": [
    "# function for calculation of doubling rate through regression\n",
    "def cal_double_t_reg(in_array):\n",
    "    ''' Use a linear regression to approximate the doubling rate'''\n",
    "    \n",
    "    y = np.array(in_array)\n",
    "    X = np.arange(-1,2).reshape(-1, 1)\n",
    "    \n",
    "    assert len(in_array)==3\n",
    "    reg.fit(X,y)\n",
    "    intercept=reg.intercept_\n",
    "    slope=reg.coef_\n",
    "    \n",
    "    return intercept/slope"
   ]
  },
  {
   "cell_type": "code",
   "execution_count": null,
   "metadata": {},
   "outputs": [],
   "source": [
    "# function for doubling time by numpy package\n",
    "def cal_double_t(in_array):\n",
    "    ''' Use a classical doubling time formular, \n",
    "     see https://en.wikipedia.org/wiki/Doubling_time '''\n",
    "    y = np.array(in_array)\n",
    "    return len(y)*np.log(2)/np.log(y[-1]/y[0])"
   ]
  },
  {
   "cell_type": "code",
   "execution_count": null,
   "metadata": {},
   "outputs": [],
   "source": [
    "# calculate slope of regression of last x days\n",
    "days_back = 3 # this gives a smoothing effect\n",
    "for pos,country in enumerate(country_list):\n",
    "    df_analyse[country+'_DR']=df_analyse[country]\\\n",
    "    .rolling(window=days_back,min_periods=days_back)\\\n",
    "    .apply(cal_double_t_reg, raw=False)"
   ]
  },
  {
   "cell_type": "code",
   "execution_count": null,
   "metadata": {},
   "outputs": [],
   "source": [
    "# run all filtered data\n",
    "days_back = 3 \n",
    "for pos,country in enumerate(filter_cols):\n",
    "    df_analyse[country+'_DR']=df_analyse[country]\\\n",
    "    .rolling(window=days_back,min_periods=days_back)\\\n",
    "    .apply(cal_double_t_reg, raw=False)"
   ]
  },
  {
   "cell_type": "code",
   "execution_count": null,
   "metadata": {},
   "outputs": [],
   "source": [
    "# matematicalvarification\n",
    "df_analyse['Germany_DR_cross_check']=df_analyse['Germany']\\\n",
    "    .rolling(window=days_back,min_periods=days_back)\\\n",
    "    .apply(cal_double_t, raw=False)"
   ]
  },
  {
   "cell_type": "code",
   "execution_count": null,
   "metadata": {},
   "outputs": [],
   "source": [
    "# run all filtered data\n",
    "days_back = 3 # this gives a smoothing effect\n",
    "for pos,country in enumerate(filter_cols):\n",
    "    df_analyse[country+'_DR']=df_analyse[country]\\\n",
    "    .rolling(window=days_back,min_periods=days_back)\\\n",
    "    .apply(cal_double_t_reg, raw=False)"
   ]
  },
  {
   "cell_type": "code",
   "execution_count": null,
   "metadata": {},
   "outputs": [],
   "source": [
    "# columns checking\n",
    "df_analyse.columns"
   ]
  },
  {
   "cell_type": "code",
   "execution_count": null,
   "metadata": {},
   "outputs": [],
   "source": [
    "start_pos=40\n",
    "quick_plot(df_analyse.date[start_pos:],\n",
    "           df_analyse.iloc[start_pos:,[11,12,13,14]], \n",
    "           y_scale='linear',slider=True)"
   ]
  },
  {
   "cell_type": "code",
   "execution_count": null,
   "metadata": {},
   "outputs": [],
   "source": [
    "start_pos=40\n",
    "quick_plot(df_analyse.date[start_pos:],\n",
    "           df_analyse.iloc[start_pos:,[16,17,18,19]], #17,18,19   # US comparison 12,17\n",
    "           y_scale='linear',slider=True)"
   ]
  },
  {
   "cell_type": "code",
   "execution_count": null,
   "metadata": {},
   "outputs": [],
   "source": []
  }
 ],
 "metadata": {
  "kernelspec": {
   "display_name": "Python 3",
   "language": "python",
   "name": "python3"
  },
  "language_info": {
   "codemirror_mode": {
    "name": "ipython",
    "version": 3
   },
   "file_extension": ".py",
   "mimetype": "text/x-python",
   "name": "python",
   "nbconvert_exporter": "python",
   "pygments_lexer": "ipython3",
   "version": "3.8.3"
  }
 },
 "nbformat": 4,
 "nbformat_minor": 2
}
