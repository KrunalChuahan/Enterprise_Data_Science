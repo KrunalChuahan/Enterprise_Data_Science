{
 "cells": [
  {
   "cell_type": "markdown",
   "metadata": {},
   "source": [
    "![](CRISP_DM.png)"
   ]
  },
  {
   "cell_type": "code",
   "execution_count": null,
   "metadata": {},
   "outputs": [],
   "source": [
    "# required packages\n",
    "import pandas as pd\n",
    "import numpy as np\n",
    "from datetime import datetime\n",
    "import pandas as pd \n",
    "from scipy import optimize\n",
    "from scipy import integrate\n",
    "import random\n",
    "#for plotting\n",
    "%matplotlib inline\n",
    "import matplotlib as mpl\n",
    "import matplotlib.pyplot as plt\n",
    "import plotly.graph_objects as go\n",
    "# for dashboard\n",
    "import dash\n",
    "import dash_core_components as dcc\n",
    "import dash_html_components as html\n",
    "from dash.dependencies import Input, Output,State\n",
    "# set parameter for plotting \n",
    "mpl.rcParams['figure.figsize'] = (16, 9)\n",
    "pd.set_option('display.max_rows', 200)"
   ]
  },
  {
   "cell_type": "code",
   "execution_count": null,
   "metadata": {},
   "outputs": [],
   "source": [
    "# local file to create dataframe and set date \n",
    "df_analyse=pd.read_csv('../data/processed/COVID_small_flat_table.csv',sep=';')  \n",
    "df_analyse.sort_values('date',ascending=True).head()"
   ]
  },
  {
   "cell_type": "markdown",
   "metadata": {},
   "source": [
    "## 80.i Calculation of SIR curves through simulative approach\n",
    "* Click on the link to check SIR: [SIR Model for Spread of Disease](https://www.maa.org/press/periodicals/loci/joma/the-sir-model-for-spread-of-disease-the-differential-equation-model)."
   ]
  },
  {
   "cell_type": "code",
   "execution_count": null,
   "metadata": {},
   "outputs": [],
   "source": [
    "# basic parameters\n",
    "\n",
    "N0=1000000 # max susceptible population\n",
    "beta=0.4   # change in infection spread dynamics\n",
    "gamma=0.1  # recovery rate\n",
    "\n",
    "# Initial condition condition I0+S0+R0=N0\n",
    "I0=df_analyse.Germany[35] # if there is zero number of cases then calculation is not possible \n",
    "S0=N0-I0\n",
    "R0=0"
   ]
  },
  {
   "cell_type": "code",
   "execution_count": null,
   "metadata": {},
   "outputs": [],
   "source": [
    "# SIR_chauhan function for calculating changes in respective cases\n",
    "def cal_SIR_chauhan(SIR,beta,gamma):\n",
    "    ''' Simple SIR model\n",
    "        S: susceptible population\n",
    "        I: infected people\n",
    "        R: recovered people\n",
    "        beta: \n",
    "        \n",
    "        overall condition is that the sum of changes (differnces) sum up to 0\n",
    "        dS+dI+dR=0\n",
    "        S+I+R= N (constant size of population)\n",
    "    \n",
    "    '''  \n",
    "    S,I,R=SIR\n",
    "    dS_dt=-beta*S*I/N0          \n",
    "    dI_dt=beta*S*I/N0-gamma*I\n",
    "    dR_dt=gamma*I\n",
    "    return([dS_dt,dI_dt,dR_dt])"
   ]
  },
  {
   "cell_type": "code",
   "execution_count": null,
   "metadata": {},
   "outputs": [],
   "source": [
    "# initiate with assumed parameter\n",
    "SIR=np.array([S0,I0,R0])\n",
    "propagation_rates=pd.DataFrame(columns={'susceptible':S0,'infected':I0,'recoverd':R0})\n",
    "\n",
    "for each_t in np.arange(100):\n",
    "    new_delta_vec=cal_SIR_chauhan(SIR,beta,gamma)\n",
    "    SIR=SIR+new_delta_vec\n",
    "    propagation_rates=propagation_rates.append({'susceptible':SIR[0],'infected':SIR[1],\n",
    "                                                'recovered':SIR[2]}, ignore_index=True)"
   ]
  },
  {
   "cell_type": "code",
   "execution_count": null,
   "metadata": {},
   "outputs": [],
   "source": [
    "fig, ax1 = plt.subplots(1, 1)\n",
    "ax1.plot(propagation_rates.index,propagation_rates.infected,label='infected',color='b')\n",
    "ax1.plot(propagation_rates.index,propagation_rates.recovered,label='recovered', color ='r')\n",
    "ax1.plot(propagation_rates.index,propagation_rates.susceptible,label='susceptible', color ='g')\n",
    "\n",
    "ax1.set_ylim(10, 1000000)\n",
    "ax1.set_yscale('linear')\n",
    "ax1.set_title('Scenario SIR simulations (Only for visualization)',size=16)\n",
    "ax1.set_xlabel('Timelinee in days',size=16)\n",
    "ax1.set_ylabel('Total infected cases', size=16)\n",
    "ax1.legend(loc='best',prop={'size': 16});"
   ]
  },
  {
   "cell_type": "markdown",
   "metadata": {},
   "source": [
    "## 80.i.a. Parameters of SIR model"
   ]
  },
  {
   "cell_type": "code",
   "execution_count": null,
   "metadata": {},
   "outputs": [],
   "source": [
    "ydata = np.array(df_analyse.Germany[35:])\n",
    "t=np.arange(len(ydata))"
   ]
  },
  {
   "cell_type": "code",
   "execution_count": null,
   "metadata": {},
   "outputs": [],
   "source": [
    "# re-initialization \n",
    "I0=ydata[0]\n",
    "S0=N0-I0\n",
    "R0=0"
   ]
  },
  {
   "cell_type": "code",
   "execution_count": null,
   "metadata": {},
   "outputs": [],
   "source": [
    "# define SI _chauhan_t, where t (in days).\n",
    "def cal_SIR_chauhan_t(SIR,t,beta,gamma):\n",
    "    S,I,R=SIR\n",
    "    dS_dt=-beta*S*I/N0      \n",
    "    dI_dt=beta*S*I/N0-gamma*I\n",
    "    dR_dt=gamma*I\n",
    "    return dS_dt,dI_dt,dR_dt\n",
    "#  function for the integration calculation\n",
    "def fit_odeint_func(x, beta, gamma):\n",
    "    return integrate.odeint(cal_SIR_chauhan_t, (S0, I0, R0), t, args=(beta, gamma))[:,1]"
   ]
  },
  {
   "cell_type": "code",
   "execution_count": null,
   "metadata": {},
   "outputs": [],
   "source": [
    "# curve of differential equation\n",
    "popt=[0.4,0.1] # intial parameter variable\n",
    "fit_odeint_func(t, *popt)"
   ]
  },
  {
   "cell_type": "code",
   "execution_count": null,
   "metadata": {},
   "outputs": [],
   "source": [
    "# resulting curve has to be fitted free parameters are beta and gamma\n",
    "popt, pcov = optimize.curve_fit(fit_odeint_func, t, ydata)\n",
    "perr = np.sqrt(np.diag(pcov))\n",
    "\n",
    "print('standard deviation errors : ',str(perr), ' start infect:',ydata[0])\n",
    "print(\"Optimal parameters: beta =\", popt[0], \" and gamma = \", popt[1])"
   ]
  },
  {
   "cell_type": "code",
   "execution_count": null,
   "metadata": {},
   "outputs": [],
   "source": [
    "# calculation for the final fitted curve\n",
    "fitted_curve=fit_odeint_func(t, *popt)"
   ]
  },
  {
   "cell_type": "code",
   "execution_count": null,
   "metadata": {},
   "outputs": [],
   "source": [
    "# plot the oringal data and fitted data \n",
    "plt.semilogy(t, ydata, '*')\n",
    "plt.semilogy(t, fitted_curve)\n",
    "plt.title('Fitted SIR model [Only for Germany]')\n",
    "plt.ylabel('Infected Population in numbers')\n",
    "plt.xlabel('Timeline in Days')\n",
    "plt.show()\n",
    "print('Calculated optimal parameters: beta =', popt[0], ' and gamma = ', popt[1])\n",
    "print('Basic Reproduction Number R0 = ', popt[0]/popt[1])\n",
    "print('R0 is a mathematical term that indicates how contagious an infectious disease is.')\n",
    "print('This ratio is derived as the expected number of new infections')"
   ]
  },
  {
   "cell_type": "markdown",
   "metadata": {},
   "source": [
    "## 80.ii  SIR with lockdown period through dynamic beta"
   ]
  },
  {
   "cell_type": "code",
   "execution_count": null,
   "metadata": {},
   "outputs": [],
   "source": [
    "t_initial=28 \n",
    "t_intro_measures=14  \n",
    "t_hold=21  \n",
    "t_relax=21 \n",
    "\n",
    "beta_max=0.4 \n",
    "beta_min=0.11 \n",
    "gamma=0.1 \n",
    "pd_beta=np.concatenate((np.array(t_initial*[beta_max]),\n",
    "                       np.linspace(beta_max,beta_min,t_intro_measures),\n",
    "                       np.array(t_hold*[beta_min]),\n",
    "                        np.linspace(beta_min,beta_max,t_relax)))"
   ]
  },
  {
   "cell_type": "code",
   "execution_count": null,
   "metadata": {},
   "outputs": [],
   "source": [
    "# parameter for relatable time period\n",
    "pd_beta"
   ]
  },
  {
   "cell_type": "code",
   "execution_count": null,
   "metadata": {},
   "outputs": [],
   "source": [
    "# intialize the sir  \n",
    "SIR=np.array([S0,I0,R0])\n",
    "propagation_rates=pd.DataFrame(columns={'susceptible':S0,'infected':I0,'recoverd':R0})\n",
    "\n",
    "# calculate propagated rates\n",
    "for each_beta in pd_beta:\n",
    "    new_delta_vec=cal_SIR_chauhan(SIR,each_beta,gamma)\n",
    "    SIR=SIR+new_delta_vec\n",
    "    propagation_rates=propagation_rates.append({'susceptible':SIR[0],'infected':SIR[1],\n",
    "                                                'recovered':SIR[2]}, ignore_index=True)"
   ]
  },
  {
   "cell_type": "code",
   "execution_count": null,
   "metadata": {},
   "outputs": [],
   "source": [
    "# dynamic beta in SIR  \n",
    "fig, ax1 = plt.subplots(1, 1);\n",
    "\n",
    "ax1.plot(propagation_rates.index,propagation_rates.infected,label='infected',linewidth=3);\n",
    "\n",
    "t_phases=np.array([t_initial,t_intro_measures,t_hold,t_relax]).cumsum()\n",
    "ax1.bar(np.arange(len(ydata)),ydata, width=0.8,label=' current infected Germany',color='w')\n",
    "ax1.axvspan(0,t_phases[0], facecolor='b', alpha=0.2,label='no measures', color = 'b')\n",
    "ax1.axvspan(t_phases[0],t_phases[1], facecolor='b', alpha=0.3,label='hard measures introduced', color = 'r')\n",
    "ax1.axvspan(t_phases[1],t_phases[2], facecolor='b', alpha=0.4,label='hold measures', color = 'y')\n",
    "ax1.axvspan(t_phases[2],t_phases[3], facecolor='b', alpha=0.5,label='relax measures', color = 'g')\n",
    "ax1.axvspan(t_phases[3],len(propagation_rates.infected), facecolor='b', alpha=0.6,label='repeat hard measures')\n",
    "\n",
    "ax1.set_ylim(10, 1.5*max(propagation_rates.infected))\n",
    "ax1.set_yscale('log')\n",
    "ax1.set_title('Dynamic beta in SIR simulations[Only for Germany]',size=16)\n",
    "ax1.set_xlabel('Timeline in Days',size=16)\n",
    "ax1.legend(loc='best',prop={'size': 16});"
   ]
  },
  {
   "cell_type": "markdown",
   "metadata": {},
   "source": [
    "## 80.iii  SIR model: Dash App"
   ]
  },
  {
   "cell_type": "markdown",
   "metadata": {},
   "source": [
    "### 80.iii.a Preparation for Data"
   ]
  },
  {
   "cell_type": "code",
   "execution_count": null,
   "metadata": {},
   "outputs": [],
   "source": [
    "# data frame\n",
    "data_raw = pd.read_csv('../data/raw/COVID-19/csse_covid_19_data/csse_covid_19_time_series/time_series_covid19_confirmed_global.csv')\n",
    "country_list = data_raw['Country/Region'].unique() #making country_list\n",
    "date = data_raw.columns[4:]\n",
    "df_chauhan = pd.DataFrame({'Date': date})\n",
    "\n",
    "# data_raw DataFrame into format for SIR algorithm\n",
    "for each in country_list:\n",
    "    df_chauhan[each] = np.array(data_raw[data_raw['Country/Region'] == each].iloc[:,4::].sum(axis=0)).T\n",
    "df_chauhan.to_csv(\"../data/raw/COVID-19/csse_covid_19_data/SIR.csv\", sep = ';', index=False)\n",
    "\n",
    "df_analyse=pd.read_csv('../data/raw/COVID-19/csse_covid_19_data/SIR.csv',sep=';')\n",
    "df_analyse.sort_values('Date',ascending=True).head()"
   ]
  },
  {
   "cell_type": "markdown",
   "metadata": {},
   "source": [
    "### 80.iii.b. SIR model and fitted curve parameter "
   ]
  },
  {
   "cell_type": "code",
   "execution_count": null,
   "metadata": {
    "scrolled": true
   },
   "outputs": [],
   "source": [
    "# Intialize parameter\n",
    "N0 = 1000000\n",
    "beta = 0.4\n",
    "gamma = 0.1\n",
    "I0=df_analyse.Germany[35]\n",
    "S0=N0-I0\n",
    "R0=0\n",
    "\n",
    "df_data = df_analyse[35:] \n",
    "t = np.arange(df_data.shape[0])\n",
    "\n",
    "# optimize parameters for each country\n",
    "for country in df_data.columns[1:]:\n",
    "        ydata = np.array(df_data[df_data[country]>0][country]) \n",
    "        t = np.arange(len(ydata))\n",
    "        I0=ydata[0]\n",
    "        S0=N0-I0\n",
    "        R0=0\n",
    "        popt=[0.4,0.1]\n",
    "        fit_odeint_func(t, *popt)\n",
    "        popt, pcov = optimize.curve_fit(fit_odeint_func, t, ydata, maxfev=5000)\n",
    "        perr = np.sqrt(np.diag(pcov))\n",
    "        fitted=fit_odeint_func(t, *popt)\n",
    "        fitted_pad = np.concatenate((np.zeros(df_data.shape[0]-len(fitted)) ,fitted))\n",
    "        df_data[country + '_fitted'] = fitted_pad\n",
    "\n",
    "df_data = df_data.reset_index(drop=True)\n",
    "df_data.to_csv('../data/processed/SIR_fitted.csv', sep = ';')"
   ]
  },
  {
   "cell_type": "code",
   "execution_count": null,
   "metadata": {},
   "outputs": [],
   "source": [
    "x = df_data[['Germany', 'Germany_fitted']]"
   ]
  },
  {
   "cell_type": "code",
   "execution_count": null,
   "metadata": {},
   "outputs": [],
   "source": [
    "#creating plot for germany \n",
    "fig = go.Figure()\n",
    "fig.add_trace(go.Scatter(x = df_data['Date'],y = df_data['Germany_fitted'],name= 'fitted_germany',\n",
    "                             mode='markers+lines',line_width = 1,marker_size = 3),\n",
    "             )\n",
    "\n",
    "fig.add_trace(go.Scatter(x = df_data['Date'],y = df_data['Germany'],name= 'source_germany',\n",
    "                             mode='markers+lines',line_width = 1,marker_size = 3),\n",
    "                 )\n",
    "\n",
    "fig.update_layout(title={'text': 'SIR fitted curve with confirmed cases [Only for Germany]','y':0.9,'x':0.5,'xanchor': 'center','yanchor': 'top'},\n",
    "                  xaxis_title='Timeline in Days', yaxis_title='Total cases of infected people',width=800, height=600)\n",
    "fig.update_yaxes(type = 'log')\n",
    "fig.update_layout(xaxis_rangeslider_visible=True)"
   ]
  },
  {
   "cell_type": "code",
   "execution_count": null,
   "metadata": {},
   "outputs": [],
   "source": [
    "color_list = []\n",
    "for i in range(200):\n",
    "    var = '#%02x%02x%02x'%(random.randint(0,255),random.randint(0,255),random.randint(0,255))\n",
    "    color_list.append(var)"
   ]
  },
  {
   "cell_type": "code",
   "execution_count": null,
   "metadata": {},
   "outputs": [],
   "source": [
    "# dashboard application of source and fitted SIR curve data for dataset\n",
    "fig = go.Figure()\n",
    "app = dash.Dash()\n",
    "app.layout = html.Div([\n",
    "\n",
    "    dcc.Markdown('''\n",
    "    #  Data Science @ TU_KL on COVID-19_Task 2\n",
    "    ## Real and simulated number of infected people\n",
    "\n",
    "    * The default layout contains the confirmed infected cases in the log-scale format on the Y-axis\n",
    "    and Timeline in Days on the X-axis.\n",
    "    ### The dropdown menu enables selection of one or multiple countries for visualization.\n",
    "\n",
    "    * This dashboard plots two curves for each country:\n",
    "    \n",
    "    1. The first curve represents the confirmed infected cases along the timeline.\n",
    "    2. The second curve represents the simulated infected cases after applying the SIR model along the timeline. \n",
    "    \n",
    "    '''),\n",
    "\n",
    "    dcc.Markdown('''\n",
    "    ## Multi-Select Country for visualization\n",
    "    '''),\n",
    "    dcc.Dropdown(\n",
    "        id='country_drop_down',\n",
    "        options=[ {'label': each,'value':each} for each in df_data.columns[1:200]],\n",
    "        value=['Germany','Brazil','US'], # which are pre-selected\n",
    "        multi=True),dcc.Graph(figure=fig, id='main_window_slope')])\n",
    "\n",
    "@app.callback(\n",
    "    Output('main_window_slope', 'figure'),\n",
    "    [Input('country_drop_down', 'value')])\n",
    "def update_figure(country_list):\n",
    "    v = 0\n",
    "    my_yaxis={'type':\"log\",'title':'Confirmed infected people (From johns hopkins csse, log-scale)'}\n",
    "    traces = []\n",
    "    for each in country_list:\n",
    "        traces.append(dict(x=df_data['Date'],y=df_data[each],\n",
    "                                mode='line', line = dict(color = color_list[v]), opacity=1.0,name=each))\n",
    "        traces.append(dict(x=df_data['Date'],\n",
    "                                y=df_data[each+'_fitted'],\n",
    "                                mode='markers+lines',line = dict(color=color_list[v]), opacity=1.0,name=each+'_simulated'))\n",
    "\n",
    "        v = v+1\n",
    "    return {\n",
    "            'data': traces,\n",
    "            'layout': dict (\n",
    "                width=1280,height=720,\n",
    "                xaxis={'title':'Timeline','tickangle':-45,'nticks':20,\n",
    "                'tickfont':dict(size=14,color=\"#0c6887\"),},yaxis=my_yaxis)}\n",
    "\n",
    "if __name__ == '__main__':\n",
    "    app.run_server(debug=True, use_reloader=False)\n"
   ]
  },
  {
   "cell_type": "code",
   "execution_count": null,
   "metadata": {},
   "outputs": [],
   "source": []
  }
 ],
 "metadata": {
  "kernelspec": {
   "display_name": "Python 3",
   "language": "python",
   "name": "python3"
  },
  "language_info": {
   "codemirror_mode": {
    "name": "ipython",
    "version": 3
   },
   "file_extension": ".py",
   "mimetype": "text/x-python",
   "name": "python",
   "nbconvert_exporter": "python",
   "pygments_lexer": "ipython3",
   "version": "3.8.3"
  }
 },
 "nbformat": 4,
 "nbformat_minor": 4
}
