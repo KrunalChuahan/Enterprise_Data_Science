{
 "cells": [
  {
   "cell_type": "markdown",
   "metadata": {},
   "source": [
    "![](CRISP_DM.png)"
   ]
  },
  {
   "cell_type": "code",
   "execution_count": null,
   "metadata": {},
   "outputs": [],
   "source": [
    "#Importing require packages\n",
    "import pandas as pd\n",
    "import numpy as np\n",
    "from datetime import datetime\n",
    "# for plotting\n",
    "%matplotlib inline\n",
    "pd.set_option('display.max_rows', 500)"
   ]
  },
  {
   "cell_type": "markdown",
   "metadata": {},
   "source": [
    "## 20.i Preparation of Data\n",
    "* Aim: To understand the final data structure\n",
    "* Requirement: To be supportable each step by visual analytics"
   ]
  },
  {
   "cell_type": "markdown",
   "metadata": {},
   "source": [
    "### 20.i.a Johns Hopkins GITHUB csv data"
   ]
  },
  {
   "cell_type": "code",
   "execution_count": null,
   "metadata": {},
   "outputs": [],
   "source": [
    "# define the path of dataset file and read it using pandas\n",
    "data_path=('../data/raw/COVID-19/csse_covid_19_data/csse_covid_19_time_series/time_series_covid19_confirmed_global.csv')\n",
    "pd_raw = pd.read_csv(data_path)\n",
    "pd_raw.head()"
   ]
  },
  {
   "cell_type": "code",
   "execution_count": null,
   "metadata": {},
   "outputs": [],
   "source": [
    "#Set all date columns as time index\n",
    "time_index=pd_raw.columns[4:]"
   ]
  },
  {
   "cell_type": "code",
   "execution_count": null,
   "metadata": {},
   "outputs": [],
   "source": [
    "#Time index to dataframe as column named 'date'\n",
    "df_plot = pd.DataFrame({'date':time_index})\n",
    "df_plot.head()"
   ]
  },
  {
   "cell_type": "code",
   "execution_count": null,
   "metadata": {},
   "outputs": [],
   "source": [
    "# First 5 countries in dataset\n",
    "pd_raw['Country/Region'].head()"
   ]
  },
  {
   "cell_type": "code",
   "execution_count": null,
   "metadata": {},
   "outputs": [],
   "source": [
    "# Data of germany for first 4 dates after summing of cases in relative state  \n",
    "pd_raw[pd_raw['Country/Region']=='Germany'].iloc[:,4::].sum(axis=0)[0:4]"
   ]
  },
  {
   "cell_type": "code",
   "execution_count": null,
   "metadata": {},
   "outputs": [],
   "source": [
    "#country list of future use\n",
    "country_list=['Brazil','US','Spain','Germany','Italy'] "
   ]
  },
  {
   "cell_type": "code",
   "execution_count": null,
   "metadata": {},
   "outputs": [],
   "source": [
    "#Applying sum of infect cases for country list\n",
    "for each in country_list:\n",
    "    df_plot[each]=np.array(pd_raw[pd_raw['Country/Region']==each].iloc[:,4::].sum(axis=0))"
   ]
  },
  {
   "cell_type": "code",
   "execution_count": null,
   "metadata": {},
   "outputs": [],
   "source": [
    "#Plotting\n",
    "df_plot.set_index('date').plot()"
   ]
  },
  {
   "cell_type": "markdown",
   "metadata": {},
   "source": [
    "### 20.i.b Data Type  for Date values in dataset"
   ]
  },
  {
   "cell_type": "code",
   "execution_count": null,
   "metadata": {},
   "outputs": [],
   "source": [
    "# convert date columns value to datetime\n",
    "t_index=[datetime.strptime( each,\"%m/%d/%y\") for each in df_plot.date] \n",
    "# convert back to date ISO norm in the form of string\n",
    "t_str=[each.strftime('%Y-%m-%d') for each in t_index] "
   ]
  },
  {
   "cell_type": "code",
   "execution_count": null,
   "metadata": {},
   "outputs": [],
   "source": [
    "# Set date column as index of dataframe\n",
    "df_plot['date']=t_index\n",
    "\n",
    "type(df_plot['date'])"
   ]
  },
  {
   "cell_type": "code",
   "execution_count": null,
   "metadata": {},
   "outputs": [],
   "source": [
    "df_plot.head()"
   ]
  },
  {
   "cell_type": "code",
   "execution_count": null,
   "metadata": {},
   "outputs": [],
   "source": [
    "#save corrected above dataframe into our local path in CSV format\n",
    "df_plot.to_csv('../data/processed/COVID_small_flat_table.csv',sep=';',index=False)"
   ]
  },
  {
   "cell_type": "code",
   "execution_count": null,
   "metadata": {},
   "outputs": [],
   "source": [
    "df_plot.head()"
   ]
  },
  {
   "cell_type": "markdown",
   "metadata": {},
   "source": [
    "## 20.ii Relational data model \n",
    "\n",
    "* Main features are:\n",
    "    *  It must contain a unique value for each row of data.\n",
    "    *  It cannot contain null values."
   ]
  },
  {
   "cell_type": "code",
   "execution_count": null,
   "metadata": {},
   "outputs": [],
   "source": [
    "# load file path where dataset is located on local drive\n",
    "data_path='../data/raw/COVID-19/csse_covid_19_data/csse_covid_19_time_series/time_series_covid19_confirmed_global.csv'\n",
    "#Reading dataframe\n",
    "pd_raw=pd.read_csv(data_path)\n",
    "pd_raw.head()"
   ]
  },
  {
   "cell_type": "code",
   "execution_count": null,
   "metadata": {},
   "outputs": [],
   "source": [
    "# Rename Country/Region and Province/State column as country and state respectively\n",
    "pd_data_base=pd_raw.rename(columns={'Country/Region':'country','Province/State':'state'})\n",
    "# If state data is not available place \"no\" \n",
    "pd_data_base['state']=pd_data_base['state'].fillna('no') "
   ]
  },
  {
   "cell_type": "code",
   "execution_count": null,
   "metadata": {},
   "outputs": [],
   "source": [
    "# Remove lat and long data\n",
    "pd_data_base=pd_data_base.drop(['Lat','Long'],axis=1)\n",
    "pd_data_base.head()"
   ]
  },
  {
   "cell_type": "code",
   "execution_count": null,
   "metadata": {},
   "outputs": [],
   "source": [
    "# New dataframe by making changes of below\n",
    "pd_rel_model=pd_data_base.set_index(['state','country']) \\\n",
    "                                .T                              \\\n",
    "                                .stack(level=[0,1])             \\\n",
    "                                .reset_index()                  \\\n",
    "                                .rename(columns={'level_0':'date',\n",
    "                                                   0:'confirmed'},)\n",
    "pd_rel_model.head()"
   ]
  },
  {
   "cell_type": "code",
   "execution_count": null,
   "metadata": {},
   "outputs": [],
   "source": [
    "# Check data types of each columns\n",
    "pd_rel_model.dtypes"
   ]
  },
  {
   "cell_type": "code",
   "execution_count": null,
   "metadata": {},
   "outputs": [],
   "source": [
    "# set \"date\" as \"datetime64[ns]\n",
    "pd_rel_model['date']=pd_rel_model.date.astype('datetime64[ns]')"
   ]
  },
  {
   "cell_type": "code",
   "execution_count": null,
   "metadata": {},
   "outputs": [],
   "source": [
    "pd_rel_model.dtypes"
   ]
  },
  {
   "cell_type": "code",
   "execution_count": null,
   "metadata": {},
   "outputs": [],
   "source": [
    "# set confirmed column datatype as integer\n",
    "pd_rel_model.confirmed=pd_rel_model.confirmed.astype(int)\n",
    "# save dataframe to local drive in CSV format\n",
    "pd_rel_model.to_csv('../data/processed/COVID_relational_confirmed.csv',sep=';',index=False)\n",
    "pd_rel_model.head()"
   ]
  },
  {
   "cell_type": "markdown",
   "metadata": {},
   "source": [
    "## 20.iii Relational dataframe for Johns Hopkins dataset containing state information for US"
   ]
  },
  {
   "cell_type": "code",
   "execution_count": null,
   "metadata": {},
   "outputs": [],
   "source": [
    "data_path='../data/raw/COVID-19/csse_covid_19_data/csse_covid_19_time_series/time_series_covid19_confirmed_US.csv'\n",
    "pd_raw_US=pd.read_csv(data_path)\n",
    "pd_raw_US.head()"
   ]
  },
  {
   "cell_type": "code",
   "execution_count": null,
   "metadata": {},
   "outputs": [],
   "source": [
    "# dropping all non relevant columns \n",
    "pd_raw_US=pd_raw_US.drop(['UID', 'iso2', 'iso3', 'code3', 'Country_Region','FIPS', 'Admin2',  'Lat', 'Long_', 'Combined_Key'],axis=1)\n",
    "# rename state columns\n",
    "pd_data_base_US=pd_raw_US.rename(columns={'Province_State':'state'}).copy()"
   ]
  },
  {
   "cell_type": "code",
   "execution_count": null,
   "metadata": {},
   "outputs": [],
   "source": [
    "## repeat the process as earlier \n",
    "pd_rel_model_US=pd_data_base_US.set_index(['state']) \\\n",
    "                                .T                              \\\n",
    "                                .stack()             \\\n",
    "                                .reset_index()                  \\\n",
    "                                .rename(columns={'level_0':'date',\n",
    "                                                   0:'confirmed'},\n",
    "                                                  )\n",
    "\n",
    "# set each column country value to US\n",
    "pd_rel_model_US['country']='US'\n",
    "# convert to datetime\n",
    "pd_rel_model_US['date']=[datetime.strptime( each,\"%m/%d/%y\") for each in pd_rel_model_US.date] \n",
    "pd_rel_model_US.head()"
   ]
  },
  {
   "cell_type": "code",
   "execution_count": null,
   "metadata": {},
   "outputs": [],
   "source": [
    "# update the relational file of US\n",
    "pd_rel_model_all=pd_rel_model[pd_rel_model['country']!='US'].reset_index(drop=True)"
   ]
  },
  {
   "cell_type": "code",
   "execution_count": null,
   "metadata": {},
   "outputs": [],
   "source": [
    "pd_rel_model_all=pd.concat([pd_rel_model_all,pd_rel_model_US],ignore_index=True)"
   ]
  },
  {
   "cell_type": "code",
   "execution_count": null,
   "metadata": {},
   "outputs": [],
   "source": [
    "pd_rel_model_all.to_csv('../data/processed/20200424_COVID_relational_confirmed.csv',sep=';',index=False)"
   ]
  },
  {
   "cell_type": "code",
   "execution_count": null,
   "metadata": {},
   "outputs": [],
   "source": [
    "print(pd_rel_model_all[pd_rel_model_all['country']=='US'])"
   ]
  },
  {
   "cell_type": "markdown",
   "metadata": {},
   "source": [
    "#### 20.iv.a Verification of full sum US data"
   ]
  },
  {
   "cell_type": "code",
   "execution_count": null,
   "metadata": {},
   "outputs": [],
   "source": [
    "ver_check_US=pd_rel_model_all[pd_rel_model_all['country']=='US']"
   ]
  },
  {
   "cell_type": "code",
   "execution_count": null,
   "metadata": {},
   "outputs": [],
   "source": [
    "ver_check_US[['date','country','confirmed']].groupby(['date','country']).sum()"
   ]
  },
  {
   "cell_type": "code",
   "execution_count": null,
   "metadata": {},
   "outputs": [],
   "source": []
  }
 ],
 "metadata": {
  "kernelspec": {
   "display_name": "Python 3",
   "language": "python",
   "name": "python3"
  },
  "language_info": {
   "codemirror_mode": {
    "name": "ipython",
    "version": 3
   },
   "file_extension": ".py",
   "mimetype": "text/x-python",
   "name": "python",
   "nbconvert_exporter": "python",
   "pygments_lexer": "ipython3",
   "version": "3.8.3"
  }
 },
 "nbformat": 4,
 "nbformat_minor": 2
}
